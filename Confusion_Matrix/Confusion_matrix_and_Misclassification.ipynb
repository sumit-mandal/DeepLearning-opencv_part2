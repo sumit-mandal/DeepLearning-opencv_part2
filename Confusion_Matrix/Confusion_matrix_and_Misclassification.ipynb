{
 "cells": [
  {
   "cell_type": "markdown",
   "metadata": {},
   "source": [
    "# Confusion Matrix and viewinng Miscalssification"
   ]
  },
  {
   "cell_type": "code",
   "execution_count": 38,
   "metadata": {},
   "outputs": [
    {
     "name": "stdout",
     "output_type": "stream",
     "text": [
      "X_train shape: (60000, 28, 28, 1)\n",
      "train samples 60000\n",
      "test samples 10000\n",
      "ytrain before hot encoding [5 0 4 ... 5 6 8]\n",
      "After one hot encoded y_train [[0. 0. 0. ... 0. 0. 0.]\n",
      " [1. 0. 0. ... 0. 0. 0.]\n",
      " [0. 0. 0. ... 0. 0. 0.]\n",
      " ...\n",
      " [0. 0. 0. ... 0. 0. 0.]\n",
      " [0. 0. 0. ... 0. 0. 0.]\n",
      " [0. 0. 0. ... 0. 1. 0.]]\n",
      "Number of classes: 10\n",
      "Number of pixels 784\n"
     ]
    }
   ],
   "source": [
    "from keras.datasets import mnist\n",
    "from keras.layers import Dropout,Dense,MaxPooling2D,Conv2D,Flatten\n",
    "from keras.models import Sequential\n",
    "from keras.utils import np_utils\n",
    "import keras\n",
    "from keras import backend as K\n",
    "from keras.optimizers import Adam\n",
    "\n",
    "#Training parameters\n",
    "batch_size = 128\n",
    "epochs = 25\n",
    "\n",
    "# Load the mnist dataset\n",
    "(X_train,y_train),(X_test,y_test) = mnist.load_data()\n",
    "\n",
    "#Let's Store the number of rows and columns\n",
    "img_rows = X_train.shape[1]\n",
    "img_cols = X_train.shape[2]\n",
    "\n",
    "#Getting our data in the right 'shape' needed for keras\n",
    "# we need to ass a 4th dimension to our data therby changing \n",
    "# Our original image shape of (60000,28,28) to (60000,28,28,1)\n",
    "\n",
    "X_train = X_train.reshape(X_train.shape[0],img_rows,img_cols,1)\n",
    "X_test = X_test.reshape(X_test.shape[0],img_rows,img_cols,1)\n",
    "\n",
    "#Store the shape of single image\n",
    "input_shape = (img_rows,img_cols,1) \n",
    "\n",
    "#change our image type to float 32 data type\n",
    "X_train = X_train.astype('float32')\n",
    "X_test = X_test.astype('float32')\n",
    "\n",
    "#Normalising the data i.e changing range from (0 to 255) to (0 to 1)\n",
    "X_train /= 255\n",
    "X_test /= 255\n",
    "\n",
    "print('X_train shape:', X_train.shape)\n",
    "print('train samples', X_train.shape[0])\n",
    "print('test samples',X_test.shape[0])\n",
    "print(\"ytrain before hot encoding\",y_train)\n",
    "\n",
    "#Now we one hot encode\n",
    "y_train = np_utils.to_categorical(y_train)\n",
    "y_test = np_utils.to_categorical(y_test)\n",
    "\n",
    "print(\"After one hot encoded y_train\",y_train)\n",
    "\n",
    "#Counting nummber of columns in our hot encoded matrix\n",
    "print(\"Number of classes: \" + str(y_test.shape[1]))\n",
    "\n",
    "num_classes = y_test.shape[1]\n",
    "num_pixels = X_train.shape[1] * X_train.shape[2]\n",
    "\n",
    "print(\"Number of pixels\",num_pixels)\n",
    "\n"
   ]
  },
  {
   "cell_type": "code",
   "execution_count": 39,
   "metadata": {},
   "outputs": [
    {
     "name": "stdout",
     "output_type": "stream",
     "text": [
      "Model: \"sequential_4\"\n",
      "_________________________________________________________________\n",
      "Layer (type)                 Output Shape              Param #   \n",
      "=================================================================\n",
      "conv2d_8 (Conv2D)            (None, 26, 26, 32)        320       \n",
      "_________________________________________________________________\n",
      "conv2d_9 (Conv2D)            (None, 24, 24, 64)        18496     \n",
      "_________________________________________________________________\n",
      "max_pooling2d_4 (MaxPooling2 (None, 12, 12, 64)        0         \n",
      "_________________________________________________________________\n",
      "dropout_7 (Dropout)          (None, 12, 12, 64)        0         \n",
      "_________________________________________________________________\n",
      "flatten_4 (Flatten)          (None, 9216)              0         \n",
      "_________________________________________________________________\n",
      "dense_6 (Dense)              (None, 128)               1179776   \n",
      "_________________________________________________________________\n",
      "dropout_8 (Dropout)          (None, 128)               0         \n",
      "_________________________________________________________________\n",
      "dense_7 (Dense)              (None, 10)                1290      \n",
      "=================================================================\n",
      "Total params: 1,199,882\n",
      "Trainable params: 1,199,882\n",
      "Non-trainable params: 0\n",
      "_________________________________________________________________\n",
      "None\n"
     ]
    }
   ],
   "source": [
    "#creating model\n",
    "model = Sequential()\n",
    "\n",
    "model.add(Conv2D(32,kernel_size = (3,3), activation = 'relu',\n",
    "                 input_shape = input_shape))\n",
    "model.add(Conv2D(64,(3,3),activation = 'relu'))\n",
    "model.add(MaxPooling2D(pool_size = (2,2)))\n",
    "model.add(Dropout(0.25))\n",
    "\n",
    "model.add(Flatten())\n",
    "model.add(Dense(128,activation = 'relu'))\n",
    "model.add(Dropout(0.5))\n",
    "model.add(Dense(num_classes,activation='softmax'))\n",
    "\n",
    "model.compile(loss = 'categorical_crossentropy',\n",
    "             optimizer = Adam(lr=0.01),\n",
    "             metrics = ['accuracy'])\n",
    "\n",
    "print(model.summary())"
   ]
  },
  {
   "cell_type": "markdown",
   "metadata": {},
   "source": [
    "## Fitting our model"
   ]
  },
  {
   "cell_type": "code",
   "execution_count": 40,
   "metadata": {},
   "outputs": [
    {
     "name": "stdout",
     "output_type": "stream",
     "text": [
      "Epoch 1/25\n",
      "469/469 [==============================] - 9s 17ms/step - loss: 0.3951 - accuracy: 0.8718 - val_loss: 0.0572 - val_accuracy: 0.9809\n",
      "Epoch 2/25\n",
      "469/469 [==============================] - 8s 18ms/step - loss: 0.1189 - accuracy: 0.9651 - val_loss: 0.0474 - val_accuracy: 0.9834\n",
      "Epoch 3/25\n",
      "469/469 [==============================] - 8s 18ms/step - loss: 0.0941 - accuracy: 0.9726 - val_loss: 0.0469 - val_accuracy: 0.9851\n",
      "Epoch 4/25\n",
      "469/469 [==============================] - 9s 18ms/step - loss: 0.0964 - accuracy: 0.9706 - val_loss: 0.0511 - val_accuracy: 0.9851\n",
      "Epoch 5/25\n",
      "469/469 [==============================] - 9s 18ms/step - loss: 0.0954 - accuracy: 0.9729 - val_loss: 0.0477 - val_accuracy: 0.9867\n",
      "Epoch 6/25\n",
      "469/469 [==============================] - 9s 19ms/step - loss: 0.0837 - accuracy: 0.9762 - val_loss: 0.0428 - val_accuracy: 0.9877\n",
      "Epoch 7/25\n",
      "469/469 [==============================] - 10s 21ms/step - loss: 0.0821 - accuracy: 0.9763 - val_loss: 0.0422 - val_accuracy: 0.9894\n",
      "Epoch 8/25\n",
      "469/469 [==============================] - 9s 20ms/step - loss: 0.0840 - accuracy: 0.9756 - val_loss: 0.0506 - val_accuracy: 0.9870\n",
      "Epoch 9/25\n",
      "469/469 [==============================] - 10s 20ms/step - loss: 0.0735 - accuracy: 0.9790 - val_loss: 0.0505 - val_accuracy: 0.9861\n",
      "Epoch 10/25\n",
      "469/469 [==============================] - 10s 20ms/step - loss: 0.0871 - accuracy: 0.9750 - val_loss: 0.0451 - val_accuracy: 0.9887\n",
      "Epoch 11/25\n",
      "469/469 [==============================] - 10s 21ms/step - loss: 0.0803 - accuracy: 0.9775 - val_loss: 0.0492 - val_accuracy: 0.9882\n",
      "Epoch 12/25\n",
      "469/469 [==============================] - 10s 22ms/step - loss: 0.0800 - accuracy: 0.9766 - val_loss: 0.0504 - val_accuracy: 0.9868\n",
      "Epoch 13/25\n",
      "469/469 [==============================] - 10s 22ms/step - loss: 0.0732 - accuracy: 0.9793 - val_loss: 0.0506 - val_accuracy: 0.9874\n",
      "Epoch 14/25\n",
      "469/469 [==============================] - 10s 22ms/step - loss: 0.0693 - accuracy: 0.9800 - val_loss: 0.0530 - val_accuracy: 0.9870\n",
      "Epoch 15/25\n",
      "469/469 [==============================] - 11s 23ms/step - loss: 0.0809 - accuracy: 0.9777 - val_loss: 0.0468 - val_accuracy: 0.9887\n",
      "Epoch 16/25\n",
      "469/469 [==============================] - 11s 23ms/step - loss: 0.0735 - accuracy: 0.9808 - val_loss: 0.0376 - val_accuracy: 0.9905\n",
      "Epoch 17/25\n",
      "469/469 [==============================] - 11s 24ms/step - loss: 0.0624 - accuracy: 0.9822 - val_loss: 0.0511 - val_accuracy: 0.9875\n",
      "Epoch 18/25\n",
      "469/469 [==============================] - 11s 24ms/step - loss: 0.0742 - accuracy: 0.9794 - val_loss: 0.0513 - val_accuracy: 0.9893\n",
      "Epoch 19/25\n",
      "469/469 [==============================] - 13s 28ms/step - loss: 0.0641 - accuracy: 0.9824 - val_loss: 0.0608 - val_accuracy: 0.9886\n",
      "Epoch 20/25\n",
      "469/469 [==============================] - 12s 25ms/step - loss: 0.0691 - accuracy: 0.9811 - val_loss: 0.0570 - val_accuracy: 0.9866\n",
      "Epoch 21/25\n",
      "469/469 [==============================] - 12s 27ms/step - loss: 0.0721 - accuracy: 0.9805 - val_loss: 0.0455 - val_accuracy: 0.9881\n",
      "Epoch 22/25\n",
      "469/469 [==============================] - 12s 27ms/step - loss: 0.0663 - accuracy: 0.9814 - val_loss: 0.0457 - val_accuracy: 0.9897\n",
      "Epoch 23/25\n",
      "469/469 [==============================] - 12s 26ms/step - loss: 0.0671 - accuracy: 0.9825 - val_loss: 0.0431 - val_accuracy: 0.9896\n",
      "Epoch 24/25\n",
      "469/469 [==============================] - 12s 26ms/step - loss: 0.0710 - accuracy: 0.9808 - val_loss: 0.0525 - val_accuracy: 0.9892\n",
      "Epoch 25/25\n",
      "469/469 [==============================] - 13s 28ms/step - loss: 0.0756 - accuracy: 0.9803 - val_loss: 0.0633 - val_accuracy: 0.9862\n",
      "313/313 [==============================] - 3s 10ms/step - loss: 0.0633 - accuracy: 0.9862\n",
      "Test loss: 0.06325860321521759\n",
      "Test accuracy 0.9861999750137329\n"
     ]
    }
   ],
   "source": [
    "history = model.fit(X_train,y_train,batch_size=batch_size,\n",
    "                   epochs = epochs , verbose =1, \n",
    "                   validation_data = (X_test,y_test))\n",
    "\n",
    "score = model.evaluate(X_test,y_test,verbose = 1)\n",
    "print('Test loss:', score[0])\n",
    "print('Test accuracy', score[1])"
   ]
  },
  {
   "cell_type": "markdown",
   "metadata": {},
   "source": [
    "#### Let's save our history file"
   ]
  },
  {
   "cell_type": "code",
   "execution_count": 41,
   "metadata": {},
   "outputs": [],
   "source": [
    "import pickle\n",
    "\n",
    "pickle_out = open(\"MNIST_history.pickle\",\"wb\")\n",
    "pickle.dump(history.history,pickle_out)\n",
    "pickle_out.close()"
   ]
  },
  {
   "cell_type": "markdown",
   "metadata": {},
   "source": [
    "#### Loading out saved history"
   ]
  },
  {
   "cell_type": "code",
   "execution_count": 42,
   "metadata": {},
   "outputs": [
    {
     "name": "stdout",
     "output_type": "stream",
     "text": [
      "{'loss': [0.21357305347919464, 0.11734391003847122, 0.09670596569776535, 0.09713263064622879, 0.0942092314362526, 0.0856902003288269, 0.08388576656579971, 0.08391018956899643, 0.07910676300525665, 0.08483263105154037, 0.07921048253774643, 0.08535825461149216, 0.07211515307426453, 0.07394721359014511, 0.08247341215610504, 0.07004396617412567, 0.0673382431268692, 0.07314438372850418, 0.06923609972000122, 0.07898248732089996, 0.07555738091468811, 0.0642433911561966, 0.06844309717416763, 0.0760524570941925, 0.07419527322053909], 'accuracy': [0.9344000220298767, 0.9660333395004272, 0.9721999764442444, 0.9706833362579346, 0.972683310508728, 0.9757833480834961, 0.9762833118438721, 0.9761333465576172, 0.977483332157135, 0.9754999876022339, 0.977400004863739, 0.9758166670799255, 0.9793166518211365, 0.9787166714668274, 0.9772166609764099, 0.980816662311554, 0.981166660785675, 0.9802166819572449, 0.9811999797821045, 0.9787833094596863, 0.9800333380699158, 0.982200026512146, 0.9815333485603333, 0.9797666668891907, 0.9804999828338623], 'val_loss': [0.05722866207361221, 0.047431983053684235, 0.046852532774209976, 0.05105843394994736, 0.04769130051136017, 0.042823418974876404, 0.042231958359479904, 0.0505976565182209, 0.05046694725751877, 0.04510661959648132, 0.04923655092716217, 0.050372324883937836, 0.05063839629292488, 0.05295448750257492, 0.04684427008032799, 0.03764047101140022, 0.051070231944322586, 0.05134116858243942, 0.06075393036007881, 0.057038966566324234, 0.045532915741205215, 0.04568615183234215, 0.043075721710920334, 0.05252199247479439, 0.06325861811637878], 'val_accuracy': [0.98089998960495, 0.9833999872207642, 0.9850999712944031, 0.9850999712944031, 0.9866999983787537, 0.9876999855041504, 0.9894000291824341, 0.9869999885559082, 0.9861000180244446, 0.9886999726295471, 0.9882000088691711, 0.9868000149726868, 0.9873999953269958, 0.9869999885559082, 0.9886999726295471, 0.9904999732971191, 0.987500011920929, 0.989300012588501, 0.9886000156402588, 0.9865999817848206, 0.988099992275238, 0.9897000193595886, 0.9896000027656555, 0.9891999959945679, 0.9861999750137329]}\n"
     ]
    }
   ],
   "source": [
    "pickle_in = open(\"mNIST_history.pickle\",\"rb\")\n",
    "saved_history = pickle.load(pickle_in)\n",
    "print(saved_history)"
   ]
  },
  {
   "cell_type": "code",
   "execution_count": 56,
   "metadata": {},
   "outputs": [
    {
     "data": {
      "image/png": "[encoded data removed]",
      "text/plain": [
       "<Figure size 432x288 with 1 Axes>"
      ]
     },
     "metadata": {
      "needs_background": "light"
     },
     "output_type": "display_data"
    }
   ],
   "source": [
    "# plotting the loss graph\n",
    "import matplotlib.pyplot as plt\n",
    "\n",
    "Train_loss_values = history.history['loss']\n",
    "Test_loss_values = history.history['val_loss']\n",
    "epochs = range(1,len(Train_loss_values)+1)\n",
    "\n",
    "plt.plot(epochs,Train_loss_values,'g',label='Train loss')\n",
    "plt.plot(epochs,Test_loss_values,'r',label='Test loss')\n",
    "plt.title(\"loss values\")\n",
    "plt.xlabel('epochs')\n",
    "plt.ylabel('loss')\n",
    "plt.grid(True)\n",
    "plt.legend()\n",
    "plt.show()\n",
    "\n",
    "\n",
    "\n",
    "\n"
   ]
  },
  {
   "cell_type": "code",
   "execution_count": 61,
   "metadata": {},
   "outputs": [
    {
     "data": {
      "image/png": "[encoded data removed]",
      "text/plain": [
       "<Figure size 432x288 with 1 Axes>"
      ]
     },
     "metadata": {
      "needs_background": "light"
     },
     "output_type": "display_data"
    }
   ],
   "source": [
    "Train_accuracy = history.history['accuracy']\n",
    "Test_accuracy = history.history['val_accuracy']\n",
    "\n",
    "epochs = range(1,len(Train_accuracy)+1)\n",
    "\n",
    "plt.plot(epochs,Train_accuracy,'b',label = 'Train accuracy')\n",
    "plt.plot(epochs,Test_accuracy,'m',label='Test Accuracy')\n",
    "\n",
    "plt.legend()\n",
    "plt.title('accuracy trainxtest')\n",
    "plt.xlabel('epochs')\n",
    "plt.ylabel('accuracy')\n",
    "plt.show()"
   ]
  },
  {
   "cell_type": "code",
   "execution_count": 43,
   "metadata": {},
   "outputs": [],
   "source": [
    "model.save(\"Confusion_matrix1.h5\")"
   ]
  },
  {
   "cell_type": "code",
   "execution_count": 44,
   "metadata": {},
   "outputs": [],
   "source": [
    "from keras.models import load_model\n",
    "classifier = load_model(\"Confusion_matrix1.h5\")"
   ]
  },
  {
   "cell_type": "markdown",
   "metadata": {},
   "source": [
    "#### Now let's display our confusion matrix and classification report"
   ]
  },
  {
   "cell_type": "code",
   "execution_count": 68,
   "metadata": {},
   "outputs": [
    {
     "name": "stdout",
     "output_type": "stream",
     "text": [
      "              precision    recall  f1-score   support\n",
      "\n",
      "           0       0.99      1.00      0.99       980\n",
      "           1       0.99      0.99      0.99      1135\n",
      "           2       0.98      0.99      0.99      1032\n",
      "           3       0.98      0.99      0.99      1010\n",
      "           4       0.99      0.98      0.99       982\n",
      "           5       0.98      0.99      0.99       892\n",
      "           6       0.99      0.99      0.99       958\n",
      "           7       0.99      0.97      0.98      1028\n",
      "           8       0.99      0.98      0.98       974\n",
      "           9       0.99      0.97      0.98      1009\n",
      "\n",
      "    accuracy                           0.99     10000\n",
      "   macro avg       0.99      0.99      0.99     10000\n",
      "weighted avg       0.99      0.99      0.99     10000\n",
      "\n",
      "[[ 976    0    0    0    0    0    2    1    1    0]\n",
      " [   1 1126    3    3    0    0    2    0    0    0]\n",
      " [   1    0 1025    1    1    0    0    4    0    0]\n",
      " [   0    1    1 1004    0    4    0    0    0    0]\n",
      " [   0    0    0    0  966    0    5    1    2    8]\n",
      " [   1    0    0    5    0  885    1    0    0    0]\n",
      " [   4    3    0    1    1    4  944    0    1    0]\n",
      " [   0    3   13    4    0    0    0 1002    3    3]\n",
      " [   4    1    3    4    1    4    1    2  951    3]\n",
      " [   1    1    1    5    5    6    0    1    6  983]]\n"
     ]
    }
   ],
   "source": [
    "from sklearn.metrics import classification_report,confusion_matrix\n",
    "import numpy as np\n",
    "\n",
    "y_pred = np.argmax(model.predict(X_test),axis = -1)\n",
    "\n",
    "print(classification_report(np.argmax(y_test,axis=1), y_pred))\n",
    "print(confusion_matrix(np.argmax(y_test,axis=1), y_pred))"
   ]
  },
  {
   "cell_type": "markdown",
   "metadata": {},
   "source": [
    "### Display our misclassified data"
   ]
  },
  {
   "cell_type": "code",
   "execution_count": 72,
   "metadata": {},
   "outputs": [
    {
     "name": "stdout",
     "output_type": "stream",
     "text": [
      "Indices of misclassification are :\n",
      "\n",
      " (array([ 151,  247,  259,  320,  340,  543,  582,  659,  674,  684,  726,\n",
      "        740,  938,  947,  956,  965, 1014, 1033, 1039, 1112, 1182, 1202,\n",
      "       1226, 1232, 1247, 1260, 1326, 1364, 1414, 1522, 1530, 1549, 1559,\n",
      "       1709, 1737, 1754, 1790, 1878, 1903, 2018, 2043, 2053, 2070, 2093,\n",
      "       2098, 2129, 2130, 2135, 2225, 2293, 2414, 2488, 2597, 2654, 2896,\n",
      "       2927, 2939, 2953, 2972, 2995, 3005, 3030, 3060, 3073, 3206, 3422,\n",
      "       3503, 3520, 3558, 3597, 3629, 3726, 3727, 3767, 3780, 3794, 3808,\n",
      "       3853, 3906, 3941, 4007, 4075, 4078, 4176, 4238, 4289, 4382, 4443,\n",
      "       4507, 4639, 4690, 4699, 4740, 4761, 4807, 4837, 4838, 4860, 4956,\n",
      "       5331, 5634, 5676, 5887, 5937, 6173, 6505, 6568, 6571, 6572, 6576,\n",
      "       6597, 6625, 6641, 6651, 6783, 7049, 7432, 7434, 7915, 7928, 8246,\n",
      "       8316, 8408, 8527, 9009, 9015, 9019, 9024, 9280, 9505, 9587, 9620,\n",
      "       9638, 9642, 9679, 9692, 9729, 9922], dtype=int64),)\n"
     ]
    }
   ],
   "source": [
    "#loading the mnist dataset\n",
    "\n",
    "(X_train,y_train),(X_test,y_test) = mnist.load_data()\n",
    "\n",
    "# Use numpy to create an array that stores a value of 1 when a misclassification occurs\n",
    "# we need to compare this y_test with y_pred to find out misclassified data\n",
    "# np.absolute does this task of comapring\n",
    "#\n",
    "\n",
    "result = np.absolute(y_test - y_pred)\n",
    "result_indices = np.nonzero(result>0) #nonzero fxn returns the indices of the elements that are non zero\n",
    "\n",
    "#Display the indices of misclassification\n",
    "print (\"Indices of misclassification are :\\n\\n\",result_indices)"
   ]
  },
  {
   "cell_type": "markdown",
   "metadata": {},
   "source": [
    "## Displaying the misclassifiations"
   ]
  },
  {
   "cell_type": "code",
   "execution_count": 98,
   "metadata": {},
   "outputs": [
    {
     "name": "stdout",
     "output_type": "stream",
     "text": [
      "y_test[result_indices[0][i]] are :\n",
      "\n",
      " 9\n",
      "y_test[result_indices[0][i]] are :\n",
      "\n",
      " 4\n",
      "y_test[result_indices[0][i]] are :\n",
      "\n",
      " 6\n",
      "y_test[result_indices[0][i]] are :\n",
      "\n",
      " 9\n",
      "y_test[result_indices[0][i]] are :\n",
      "\n",
      " 5\n",
      "y_test[result_indices[0][i]] are :\n",
      "\n",
      " 8\n",
      "y_test[result_indices[0][i]] are :\n",
      "\n",
      " 8\n",
      "y_test[result_indices[0][i]] are :\n",
      "\n",
      " 2\n",
      "y_test[result_indices[0][i]] are :\n",
      "\n",
      " 5\n",
      "y_test[result_indices[0][i]] are :\n",
      "\n",
      " 7\n"
     ]
    }
   ],
   "source": [
    "import cv2\n",
    "\n",
    "def draw_test(name,pred,input_im,true_label):\n",
    "    BLACK = [0,255,255]\n",
    "    expanded_image = cv2.copyMakeBorder(input_im,0,0,0,imageL.shape[0]*2,cv2.BORDER_CONSTANT,value = BLACK)\n",
    "    expanded_image = cv2.cvtColor(expanded_image,cv2.COLOR_GRAY2BGR)\n",
    "    cv2.putText(expanded_image,str(pred),(152,70),cv2.FONT_HERSHEY_COMPLEX_SMALL,4,(0,255,0),2)\n",
    "    cv2.putText(expanded_image,str(true_label),(250,70),cv2.FONT_HERSHEY_COMPLEX_SMALL,4,(0,0,255),2)\n",
    "    cv2.imshow(name,expanded_image)\n",
    "    \n",
    "\n",
    "for i in range(0,10):\n",
    "    \n",
    "    input_im = X_test[result_indices[0][i]]\n",
    "    print(\"y_test[result_indices[0][i]] are :\\n\\n\",y_test[result_indices[0][i]])\n",
    "    imageL = cv2.resize(input_im,None,fx=4,fy=4,interpolation=cv2.INTER_CUBIC)\n",
    "    input_im = input_im.reshape(1,28,28,1)\n",
    "    \n",
    "    #Get prediction\n",
    "    res = str(np.argmax(model.predict(input_im,1,verbose=0)[0]))\n",
    "    draw_test(\"predictions\",res,imageL,y_test[result_indices[0][i]])\n",
    "    cv2.waitKey(0)\n",
    "    \n",
    "    \n",
    "cv2.destroyAllWindows()\n",
    "    \n"
   ]
  },
  {
   "cell_type": "code",
   "execution_count": null,
   "metadata": {},
   "outputs": [],
   "source": [
    "!git add Confusion_matrix1.h5 Confusion_matrix_and_Misclassification.ipynb MNIST_history.pickle\n",
    "! git commit -m \"13:06/01-05-2021\"\n",
    "! git push -u origin main"
   ]
  }
 ],
 "metadata": {
  "kernelspec": {
   "display_name": "Python [conda env:cv]",
   "language": "python",
   "name": "conda-env-cv-py"
  },
  "language_info": {
   "codemirror_mode": {
    "name": "ipython",
    "version": 3
   },
   "file_extension": ".py",
   "mimetype": "text/x-python",
   "name": "python",
   "nbconvert_exporter": "python",
   "pygments_lexer": "ipython3",
   "version": "3.8.5"
  }
 },
 "nbformat": 4,
 "nbformat_minor": 4
}
