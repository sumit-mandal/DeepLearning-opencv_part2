{
 "cells": [
  {
   "cell_type": "markdown",
   "metadata": {},
   "source": [
    "# `Loading ResNet50 `"
   ]
  },
  {
   "cell_type": "code",
   "execution_count": 1,
   "metadata": {},
   "outputs": [],
   "source": [
    "from keras.applications.resnet50 import ResNet50\n",
    "from keras.preprocessing import image\n",
    "from keras.applications.resnet50 import preprocess_input, decode_predictions\n",
    "import numpy as np\n",
    "\n",
    "resnet_model = ResNet50(weights='imagenet')"
   ]
  },
  {
   "cell_type": "code",
   "execution_count": 2,
   "metadata": {},
   "outputs": [
    {
     "name": "stdout",
     "output_type": "stream",
     "text": [
      "Predicted [('n04355933', 'sunglass', 0.40995535), ('n04356056', 'sunglasses', 0.25811383), ('n09193705', 'alp', 0.09383215)]\n"
     ]
    }
   ],
   "source": [
    "from keras.preprocessing import image\n",
    "img_path = './images/human.jpg'\n",
    "\n",
    "img = image.load_img(img_path, target_size=(224, 224))\n",
    "X = image.img_to_array(img)\n",
    "X = np.expand_dims(X,axis=0)\n",
    "X = preprocess_input(X)\n",
    "\n",
    "preds = resnet_model.predict(X)\n",
    "# decode the results into a list of tuples (class, description, probability)\n",
    "# (one such list for each sample in the batch)\n",
    "print(\"Predicted\",decode_predictions(preds,top=3)[0])"
   ]
  },
  {
   "cell_type": "markdown",
   "metadata": {},
   "source": [
    "## ~running through few test images~"
   ]
  },
  {
   "cell_type": "code",
   "execution_count": 45,
   "metadata": {},
   "outputs": [],
   "source": [
    "import cv2\n",
    "from os import listdir\n",
    "from os.path import isfile,join\n",
    "\n",
    "def draw_test(name,predictions,input_im):\n",
    "    BLACK = [0,0,0]\n",
    "    expanded_image = cv2.copyMakeBorder(input_im,300,80,400,imageL.shape[1]+300,cv2.BORDER_CONSTANT,\n",
    "                                       value = BLACK)\n",
    "    img_width = input_im.shape[1]\n",
    "    \n",
    "    for (i,prediction) in enumerate(predictions):\n",
    "        string = str(prediction[1])+ \" \" + str(prediction[2])\n",
    "        cv2.putText(expanded_image,str(name),(img_width + 100,100),cv2.FONT_HERSHEY_COMPLEX_SMALL,\n",
    "                       2,(0,0,255),1)\n",
    "        cv2.putText(expanded_image,string,(img_width + 100,100 +((i+1)*50)),cv2.FONT_HERSHEY_COMPLEX_SMALL,\n",
    "                        2,(0,255,0),1)\n",
    "        cv2.imshow(name,expanded_image)\n",
    "            \n",
    "#Get images Locates in ./images folder\n",
    "mypath = './images/'\n",
    "file_names = [f for f in listdir(mypath) if isfile(join(mypath,f))]\n",
    "\n",
    "# Loop through images run them through our classifier\n",
    "\n",
    "for file in file_names:\n",
    "    \n",
    "    from keras.preprocessing import image\n",
    "    img = image.load_img(mypath+file, target_size=(224,224))\n",
    "    X = image.img_to_array(img)\n",
    "    X = np.expand_dims(X,axis=0)\n",
    "    X = preprocess_input(X)\n",
    "    \n",
    "    #Load image using opecv\n",
    "    img2 = cv2.imread(mypath+file)\n",
    "    imageL = cv2.resize(img2,None,fx =.5, fy =.5,interpolation = cv2.INTER_CUBIC)\n",
    "    \n",
    "    #Get predictions\n",
    "    preds = resnet_model.predict(X)\n",
    "    predictions = decode_predictions(preds, top=3)[0]\n",
    "    draw_test(\"predictions :\",predictions,imageL)\n",
    "    cv2.waitKey(0)\n",
    "    \n",
    "    \n",
    "cv2.destroyAllWindows()"
   ]
  },
  {
   "cell_type": "code",
   "execution_count": 39,
   "metadata": {},
   "outputs": [
    {
     "name": "stdout",
     "output_type": "stream",
     "text": [
      "Downloading data from https://storage.googleapis.com/tensorflow/keras-applications/vgg16/vgg16_weights_tf_dim_ordering_tf_kernels.h5\n",
      "553467904/553467096 [==============================] - 95s 0us/step\n",
      "Downloading data from https://storage.googleapis.com/tensorflow/keras-applications/inception_v3/inception_v3_weights_tf_dim_ordering_tf_kernels.h5\n",
      "96116736/96112376 [==============================] - 14s 0us/step\n"
     ]
    }
   ],
   "source": [
    "# making predictions with VGG16 and inceptionV3\n",
    "from keras.applications import vgg16,inception_v3,resnet50\n",
    "\n",
    "#Loads the vgg model\n",
    "vgg_model = vgg16.VGG16(weights='imagenet')\n",
    "\n",
    "#Loads th inception_v3 model \n",
    "inception_model = inception_v3.InceptionV3(weights='imagenet')\n"
   ]
  },
  {
   "cell_type": "code",
   "execution_count": null,
   "metadata": {},
   "outputs": [],
   "source": [
    "# Comapring all three models\n",
    "#Get images Locates in ./images folder\n",
    "mypath = './images/'\n",
    "file_names = [f for f in listdir(mypath) if isfile(join(mypath,f))]\n",
    "\n",
    "# Loop through images run them through our classifier\n",
    "\n",
    "for file in file_names:\n",
    "    \n",
    "    from keras.preprocessing import image\n",
    "    img = image.load_img(mypath+file, target_size=(224,224))\n",
    "    X = image.img_to_array(img)\n",
    "    X = np.expand_dims(X,axis=0)\n",
    "    X = preprocess_input(X)\n",
    "    \n",
    "    #Load image using opecv\n",
    "    img2 = cv2.imread(mypath+file)\n",
    "    imageL = cv2.resize(img2,None,fx =.5, fy =.5,interpolation = cv2.INTER_CUBIC)\n",
    "    \n",
    "    \n",
    "  # Get VGG16 Predictions\n",
    "    preds_vgg_model = vgg_model.predict(X)\n",
    "    predictions_vgg = decode_predictions(preds_vgg_model, top=3)[0]\n",
    "    draw_test(\"VGG16 Predictions\", predictions_vgg, imageL) \n",
    "    \n",
    "    # Get Inception_V3 Predictions\n",
    "    preds_inception = inception_model.predict(X)\n",
    "    predictions_inception = decode_predictions(preds_inception, top=3)[0]\n",
    "    draw_test(\"Inception_V3 Predictions\", predictions_inception, imageL) \n",
    "    \n",
    "    \n",
    "    \n",
    "    #Get resnet predictions\n",
    "    preds_resnet = resnet_model.predict(X)\n",
    "    predictions_resnet = decode_predictions(preds, top=3)[0]\n",
    "    draw_test(\"resnet predictions :\",predictions_resnet,imageL)\n",
    "    \n",
    "    cv2.waitKey(0)\n",
    "    \n",
    "    \n",
    "cv2.destroyAllWindows()"
   ]
  },
  {
   "cell_type": "code",
   "execution_count": null,
   "metadata": {},
   "outputs": [],
   "source": [
    "!git add Pretrained_Model_Imgagenet_vgg_resnet_inceptionv3.ipynb\n",
    "! git commit -m \"11:58/04-05-2021\"\n",
    "! git push origin main"
   ]
  }
 ],
 "metadata": {
  "kernelspec": {
   "display_name": "Python [conda env:cv] *",
   "language": "python",
   "name": "conda-env-cv-py"
  },
  "language_info": {
   "codemirror_mode": {
    "name": "ipython",
    "version": 3
   },
   "file_extension": ".py",
   "mimetype": "text/x-python",
   "name": "python",
   "nbconvert_exporter": "python",
   "pygments_lexer": "ipython3",
   "version": "3.8.5"
  }
 },
 "nbformat": 4,
 "nbformat_minor": 4
}
