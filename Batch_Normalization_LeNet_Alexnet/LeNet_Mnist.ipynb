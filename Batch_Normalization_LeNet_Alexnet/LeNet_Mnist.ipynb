{
 "cells": [
  {
   "cell_type": "markdown",
   "metadata": {},
   "source": [
    "### Constructing Lenet in keras"
   ]
  },
  {
   "cell_type": "markdown",
   "metadata": {},
   "source": [
    "##### Loading and preparing MNIST data"
   ]
  },
  {
   "cell_type": "code",
   "execution_count": 52,
   "metadata": {},
   "outputs": [],
   "source": [
    "from keras.preprocessing.image import ImageDataGenerator\n",
    "from keras.models import Sequential\n",
    "from keras.layers import Dense,MaxPooling2D,Conv2D,Flatten,Activation,ZeroPadding2D\n",
    "from keras.layers.normalization import BatchNormalization\n",
    "from keras.datasets import mnist\n",
    "import keras\n",
    "from keras.utils import np_utils\n",
    "from keras.optimizers import Adadelta,Adam"
   ]
  },
  {
   "cell_type": "code",
   "execution_count": 53,
   "metadata": {},
   "outputs": [
    {
     "name": "stdout",
     "output_type": "stream",
     "text": [
      "Size of X_train (60000, 28, 28, 1)\n",
      "Size of X_test (10000, 28, 28, 1)\n",
      "Size of y_train (60000, 10)\n",
      "Size of y_test (10000, 10)\n",
      "Num of classes 10\n",
      "Num of pixeles 280\n"
     ]
    }
   ],
   "source": [
    "#Load the mnist dataset\n",
    "(X_train,y_train),(X_test,y_test) = mnist.load_data()\n",
    "\n",
    "#Stroring then number of roes and columns\n",
    "img_rows = X_train[0].shape[0]\n",
    "img_cols = X_train[0].shape[1]\n",
    "\n",
    "\n",
    "# Getting our date in the right 'shape' needed for Keras\n",
    "# We need to add a 4th dimenion to our date thereby changing our\n",
    "# Our original image shape of (60000,28,28) to (60000,28,28,1)\n",
    "\n",
    "X_train = X_train.reshape(X_train.shape[0],img_rows,img_cols,1)\n",
    "X_test = X_test.reshape(X_test.shape[0],img_rows,img_cols,1)\n",
    "\n",
    "#Shape of single image will be\n",
    "input_shape = (img_rows,img_cols,1)\n",
    "\n",
    "# changing our image type to float32 data type\n",
    "X_train = X_train.astype('float32')\n",
    "x_test = X_test.astype('float32')\n",
    "\n",
    "#Normalising \n",
    "X_train = X_train/255\n",
    "X_test = X_test/255\n",
    "\n",
    "#Now one hot encoding labels\n",
    "\n",
    "y_train = np_utils.to_categorical(y_train)\n",
    "y_test = np_utils.to_categorical(y_test)\n",
    "\n",
    "\n",
    "#identifying shapes and sizes\n",
    "print(\"Size of X_train\",X_train.shape)\n",
    "print(\"Size of X_test\",X_test.shape)\n",
    "print(\"Size of y_train\",y_train.shape)\n",
    "print(\"Size of y_test\",y_test.shape)\n",
    "\n",
    "\n",
    "num_classes = y_test.shape[1]\n",
    "num_pixels = y_train.shape[1]*X_train.shape[2]\n",
    "\n",
    "print(\"Num of classes\",num_classes)\n",
    "print(\"Num of pixeles\",num_pixels)"
   ]
  },
  {
   "cell_type": "markdown",
   "metadata": {},
   "source": [
    "### Now creating our model"
   ]
  },
  {
   "cell_type": "code",
   "execution_count": 56,
   "metadata": {},
   "outputs": [],
   "source": [
    "model = Sequential()\n",
    "\n",
    "#2 sets of CRP\n",
    "model.add(Conv2D(20,(5,5),padding='same',input_shape = input_shape,activation='relu'))\n",
    "model.add(MaxPooling2D(pool_size=(2,2),strides=(2,2)))\n",
    "\n",
    "model.add(Conv2D(50,(5,5),padding='same',activation = 'relu'))\n",
    "model.add(MaxPooling2D(pool_size = (2,2),strides = (2,2)))\n",
    "\n",
    "\n",
    "#FUlly connnected layer\n",
    "model.add(Flatten())\n",
    "model.add(Dense(500,activation='relu'))\n",
    "#Softmax for classification\n",
    "model.add(Dense(num_classes,activation='softmax'))\n",
    "\n",
    "\n",
    "model.compile(loss='categorical_crossentropy',optimizer = Adam(lr=0.001),metrics=['accuracy'])\n",
    "\n",
    "\n",
    "\n",
    "\n",
    "\n",
    "\n"
   ]
  },
  {
   "cell_type": "markdown",
   "metadata": {},
   "source": [
    "### training Lnet on mnist dataset"
   ]
  },
  {
   "cell_type": "code",
   "execution_count": 57,
   "metadata": {},
   "outputs": [
    {
     "name": "stdout",
     "output_type": "stream",
     "text": [
      "Epoch 1/10\n",
      "469/469 [==============================] - 11s 21ms/step - loss: 0.3801 - accuracy: 0.8837 - val_loss: 0.0499 - val_accuracy: 0.9842\n",
      "Epoch 2/10\n",
      "469/469 [==============================] - 10s 21ms/step - loss: 0.0473 - accuracy: 0.9858 - val_loss: 0.0330 - val_accuracy: 0.9898\n",
      "Epoch 3/10\n",
      "469/469 [==============================] - 10s 21ms/step - loss: 0.0286 - accuracy: 0.9915 - val_loss: 0.0262 - val_accuracy: 0.9907\n",
      "Epoch 4/10\n",
      "469/469 [==============================] - 10s 21ms/step - loss: 0.0196 - accuracy: 0.9939 - val_loss: 0.0248 - val_accuracy: 0.9915\n",
      "Epoch 5/10\n",
      "469/469 [==============================] - 10s 21ms/step - loss: 0.0146 - accuracy: 0.9959 - val_loss: 0.0254 - val_accuracy: 0.9915\n",
      "Epoch 6/10\n",
      "469/469 [==============================] - 10s 21ms/step - loss: 0.0129 - accuracy: 0.9955 - val_loss: 0.0235 - val_accuracy: 0.9924\n",
      "Epoch 7/10\n",
      "469/469 [==============================] - 10s 21ms/step - loss: 0.0099 - accuracy: 0.9964 - val_loss: 0.0267 - val_accuracy: 0.9918\n",
      "Epoch 8/10\n",
      "469/469 [==============================] - 10s 21ms/step - loss: 0.0071 - accuracy: 0.9977 - val_loss: 0.0377 - val_accuracy: 0.9900\n",
      "Epoch 9/10\n",
      "469/469 [==============================] - 10s 21ms/step - loss: 0.0063 - accuracy: 0.9980 - val_loss: 0.0382 - val_accuracy: 0.9884\n",
      "Epoch 10/10\n",
      "469/469 [==============================] - 10s 21ms/step - loss: 0.0063 - accuracy: 0.9981 - val_loss: 0.0292 - val_accuracy: 0.9915\n"
     ]
    }
   ],
   "source": [
    "batch_size = 128\n",
    "epochs = 10\n",
    "\n",
    "history = model.fit(X_train,y_train,\n",
    "                   epochs=epochs,\n",
    "                   batch_size=batch_size,\n",
    "                   verbose=1,\n",
    "                    shuffle=True,\n",
    "                   validation_data=(X_test,y_test))"
   ]
  },
  {
   "cell_type": "markdown",
   "metadata": {},
   "source": [
    "###  Plotting our graph"
   ]
  },
  {
   "cell_type": "code",
   "execution_count": 59,
   "metadata": {},
   "outputs": [
    {
     "data": {
      "image/png": "[encoded data removed]",
      "text/plain": [
       "<Figure size 432x288 with 1 Axes>"
      ]
     },
     "metadata": {
      "needs_background": "light"
     },
     "output_type": "display_data"
    }
   ],
   "source": [
    "from matplotlib import pyplot as plt\n",
    "\n",
    "train_loss = history.history['loss']\n",
    "test_loss = history.history['val_loss']\n",
    "epochs = range(1,len(train_loss)+1)\n",
    "plt.plot(train_loss,epochs,'r',label = 'training loss')\n",
    "plt.plot(test_loss,epochs,'b',label='test_loss')\n",
    "\n",
    "plt.xlabel('epochs')\n",
    "plt.ylabel('loss')\n",
    "plt.legend()\n",
    "plt.show()"
   ]
  },
  {
   "cell_type": "code",
   "execution_count": 63,
   "metadata": {},
   "outputs": [
    {
     "data": {
      "image/png": "[encoded data removed]",
      "text/plain": [
       "<Figure size 432x288 with 1 Axes>"
      ]
     },
     "metadata": {
      "needs_background": "light"
     },
     "output_type": "display_data"
    }
   ],
   "source": [
    "from matplotlib import pyplot as plt\n",
    "\n",
    "train_accuracy = history.history['accuracy']\n",
    "test_accuracy = history.history['val_accuracy']\n",
    "epochs = range(1,len(train_accuracy)+1)\n",
    "plt.plot(train_accuracy,epochs,'r',label = 'training accuracy')\n",
    "plt.plot(test_accuracy,epochs,'b',label='test_accuracy')\n",
    "\n",
    "plt.xlabel('epochs')\n",
    "plt.ylabel('accuracy')\n",
    "plt.legend()\n",
    "plt.show()"
   ]
  },
  {
   "cell_type": "code",
   "execution_count": null,
   "metadata": {},
   "outputs": [],
   "source": [
    "!git add LeNet_Mnist.ipynb\n",
    "! git commit -m \"19:05/02-05-2021\"\n",
    "! git push origin main"
   ]
  }
 ],
 "metadata": {
  "kernelspec": {
   "display_name": "Python [conda env:cv] *",
   "language": "python",
   "name": "conda-env-cv-py"
  },
  "language_info": {
   "codemirror_mode": {
    "name": "ipython",
    "version": 3
   },
   "file_extension": ".py",
   "mimetype": "text/x-python",
   "name": "python",
   "nbconvert_exporter": "python",
   "pygments_lexer": "ipython3",
   "version": "3.8.5"
  }
 },
 "nbformat": 4,
 "nbformat_minor": 4
}
